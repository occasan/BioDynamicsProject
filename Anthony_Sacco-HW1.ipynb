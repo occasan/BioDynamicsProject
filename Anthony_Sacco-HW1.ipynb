{
 "cells": [
  {
   "cell_type": "markdown",
   "metadata": {},
   "source": [
    "# HW 1: Investigating the SARS-nCoV-2 Genome\n",
    "This is your first set of coding excrecises. Please submit the modified file as your completed homework. Name the file firstname_lastname-HW1.ipynb\n",
    "\n",
    "\n",
    "The accompanying file entitled MT118835.1 is the raw text of one of the first sequenced genomes of the SARS-nCoV-2 in California. This particular isolate was found in Solano county outside of San Francisco. \n",
    "\n",
    "*Please remember to comment your code so that we can see how you were thinking about the excercises and give partial credit if your answers are not exactly correct*\n",
    "\n",
    "To load the file put it into your current directory. Which is the same one that you have this script saved into. "
   ]
  },
  {
   "cell_type": "code",
   "execution_count": 46,
   "metadata": {
    "tags": []
   },
   "outputs": [],
   "source": [
    "#Load the genome\n",
    "filename = \"SarsCov2Dataset\"\n",
    "\n",
    "coronaGenome = open(filename).read()"
   ]
  },
  {
   "cell_type": "markdown",
   "metadata": {},
   "source": [
    "## Excercise 1: Transcription\n",
    "\n",
    "Create a function called `dna2rna` that takes the `coronaGenome` and converts all of the `t` into `u`. This function is converting DNA into RNA and more accurately represents the genome of the corona virus since it has an RNA-based genome. Save the output of the function into a new variable called `coronaRNAgenome`.\n",
    "\n"
   ]
  },
  {
   "cell_type": "code",
   "execution_count": 103,
   "metadata": {
    "tags": []
   },
   "outputs": [],
   "source": [
    "# Load the Genome\n",
    "filename = \"SarsCov2Dataset\"\n",
    "coronaGenome = open(filename).read()\n",
    "\n",
    "#Create explicit parameter to not confuse with global variable\n",
    "def dna2rna(_coronaGenome):\n",
    "    # Replace all occurrences of 't' with 'u'\n",
    "    _coronaRNAgenome = _coronaGenome.replace('t', 'u')\n",
    "    return _coronaRNAgenome \n",
    "\n",
    "coronaRNAgenome = dna2rna(coronaGenome)\n",
    "\n",
    "#print(coronaRNAgenome)"
   ]
  },
  {
   "cell_type": "markdown",
   "metadata": {},
   "source": [
    "## Excercise 2: Pattern Matching\n",
    "Make a second function that has two arguments. One is `coronaGenome` and the second is an sequence of RNA called `query` that the user can decide on. Have the function return the number of instances of that string. How many instances are their of 'auguacg', 'auguac', 'augua', 'augu', 'aug', 'au', and 'a'?\n"
   ]
  },
  {
   "cell_type": "code",
   "execution_count": 39,
   "metadata": {
    "tags": []
   },
   "outputs": [
    {
     "name": "stdout",
     "output_type": "stream",
     "text": [
      "The number of auguacg = 2\n",
      "The number of auguac = 16\n",
      "The number of augua = 45\n",
      "The number of augu = 210\n",
      "The number of aug = 725\n",
      "The number of au = 2308\n",
      "The number of a = 8933\n"
     ]
    }
   ],
   "source": [
    "# Load the Genome\n",
    "filename = \"SarsCov2Dataset\"\n",
    "coronaGenome = open(filename).read()\n",
    "\n",
    "#Create explicit parameter to not confuse with global variable\n",
    "def dna2rna(_coronaGenome):\n",
    "    # Replace all occurrences of 't' with 'u'\n",
    "    _coronaRNAgenome = _coronaGenome.replace('t', 'u')\n",
    "    return _coronaRNAgenome \n",
    "\n",
    "#Create explicit parameter to not confuse with global variable\n",
    "def queryRNA(_coronaRNAgenome, query):\n",
    "    # Count for query in RNA genome\n",
    "    return _coronaRNAgenome.count(query)\n",
    "\n",
    "\n",
    "coronaRNAgenome = dna2rna(coronaGenome)\n",
    "\n",
    "# Create an array for base pair segments\n",
    "queryArray = ['auguacg', 'auguac', 'augua', 'augu', 'aug', 'au', 'a']\n",
    "\n",
    "# Use a for loop to determine number of items(basepair segments) in the array present within coronaRNAgenome\n",
    "for item in queryArray:\n",
    "    queryCountResult = queryRNA(coronaRNAgenome, item)\n",
    "    print('The number of {} = {}'.format(item, queryCountResult))\n",
    "\n"
   ]
  },
  {
   "cell_type": "markdown",
   "metadata": {},
   "source": [
    "## Excercise 3: Mutation\n",
    "\n",
    "Now let's simulate the process of mutation. This is a random process so we are going to have to bring in python's random number generator. \n",
    "\n",
    "In the cell below, use the `rd.choice` function to pick a random base from the four possibilities 'a','u','c','g'"
   ]
  },
  {
   "cell_type": "code",
   "execution_count": 177,
   "metadata": {
    "tags": []
   },
   "outputs": [
    {
     "name": "stdout",
     "output_type": "stream",
     "text": [
      "a\n"
     ]
    }
   ],
   "source": [
    "# Load the Genome\n",
    "filename = \"SarsCov2Dataset\"\n",
    "coronaGenome = open(filename).read()\n",
    "\n",
    "#Create explicit parameter to not confuse with global variable\n",
    "def dna2rna(_coronaGenome):\n",
    "    # Replace all occurrences of 't' with 'u'\n",
    "    _coronaRNAgenome = _coronaGenome.replace('t', 'u')\n",
    "    return _coronaRNAgenome \n",
    "\n",
    "coronaRNAgenome = dna2rna(coronaGenome)\n",
    "\n",
    "#Import random package to use rd.choice function\n",
    "import random\n",
    "print(choice)"
   ]
  },
  {
   "cell_type": "markdown",
   "metadata": {
    "tags": []
   },
   "source": [
    "Next create a function called `mutate` that iterates through every base of the `coronaRNAgenome` and depending on a second parameter called `mutationRate` uses the `rd.choice` function to randomly change a base pair. HIV has a mutation rate of 10^-3 mutations per base pair per replication cycle whearas covid-19 is has been estimated to be closer to 10^-4 to 10^-5 mut/bp/cycle. \n",
    "\n",
    "HINT: One possible implimentation could use the following line:\n",
    "`if rd.random() > mutationRate:`\n",
    "This line will most likely be paired with an `else` statement."
   ]
  },
  {
   "cell_type": "code",
   "execution_count": 102,
   "metadata": {
    "tags": []
   },
   "outputs": [],
   "source": [
    "# Load the Genome\n",
    "filename = \"SarsCov2Dataset\"\n",
    "coronaGenome = open(filename).read()\n",
    "\n",
    "import random as rd\n",
    "\n",
    "#Create explicit parameter to not confuse with global variable\n",
    "def dna2rna(_coronaGenome):\n",
    "    # Replace all occurrences of 't' with 'u'\n",
    "    _coronaRNAgenome = _coronaGenome.replace('t', 'u')\n",
    "    return _coronaRNAgenome \n",
    "\n",
    "coronaRNAgenome = dna2rna(coronaGenome)\n",
    "\n",
    "#Create mutate function containing each parameter. New variable mutated_genome created as empty string to be added to\n",
    "def mutate(_coronaRNAgenome, mutationRate):\n",
    "    mutated_genome = ''\n",
    "\n",
    "\n",
    "    #Create an array for possible bases\n",
    "    base = ['a','u','c','g']\n",
    "\n",
    "    for i in _coronaRNAgenome:\n",
    "        if rd.random() < mutationRate:\n",
    "        #Pick a random base different from the current base\n",
    "            mutated_genome += random.choice([b for b in base if b != i])\n",
    "        \n",
    "        else: \n",
    "            mutated_genome += i\n",
    "    return mutated_genome\n",
    "\n",
    "mutationRate = 1e-4\n",
    "mutated_sequence = mutate(coronaRNAgenome, mutationRate)\n",
    "#print(mutated_sequence)\n"
   ]
  },
  {
   "cell_type": "markdown",
   "metadata": {
    "tags": []
   },
   "source": [
    "## Excercise 4: Translation and the Spike\n",
    "\n",
    "Finally, in order for the coronavirus to manipulate the cells in our bodies parts of its RNA genome must be translated into protein.\n",
    "\n",
    "Build a function called `RNA2Protein()` that translates any sequence of RNA to protein using the codon table.\n"
   ]
  },
  {
   "cell_type": "code",
   "execution_count": 145,
   "metadata": {
    "tags": []
   },
   "outputs": [
    {
     "name": "stdout",
     "output_type": "stream",
     "text": [
      "Protein sequence: IKGLYLPR\n"
     ]
    }
   ],
   "source": [
    "\n",
    "# Load the Genome\n",
    "filename = \"SarsCov2Dataset\"\n",
    "coronaGenome = open(filename).read()\n",
    "\n",
    "#Create explicit parameter to not confuse with global variable\n",
    "def dna2rna(_coronaGenome):\n",
    "    # Replace all occurrences of 't' with 'u'\n",
    "    _coronaRNAgenome = _coronaGenome.replace('t', 'u')\n",
    "    return _coronaRNAgenome \n",
    "\n",
    "coronaRNAgenome = dna2rna(coronaGenome)\n",
    "\n",
    "#Convert RNA to protein\n",
    "def RNA2Protein(rna_sequence):\n",
    "\n",
    "    # Full genetic codon table with lowercase codons\n",
    "    codon_table = {\n",
    "        'uuu': 'F', 'uuc': 'F', 'uua': 'L', 'uug': 'L',\n",
    "        'ucu': 'S', 'ucc': 'S', 'uca': 'S', 'ucg': 'S',\n",
    "        'uau': 'Y', 'uac': 'Y', 'uaa': 'Stop', 'uag': 'Stop',\n",
    "        'ugu': 'C', 'ugc': 'C', 'uga': 'Stop', 'ugg': 'W',\n",
    "        'cuu': 'L', 'cuc': 'L', 'cua': 'L', 'cug': 'L',\n",
    "        'ccu': 'P', 'ccc': 'P', 'cca': 'P', 'ccg': 'P',\n",
    "        'cau': 'H', 'cac': 'H', 'caa': 'Q', 'cag': 'Q',\n",
    "        'cgu': 'R', 'cgc': 'R', 'cga': 'R', 'cgg': 'R',\n",
    "        'auu': 'I', 'auc': 'I', 'aua': 'I', 'aug': 'M',\n",
    "        'acu': 'T', 'acc': 'T', 'aca': 'T', 'acg': 'T',\n",
    "        'aau': 'N', 'aac': 'N', 'aaa': 'K', 'aag': 'K',\n",
    "        'agu': 'S', 'agc': 'S', 'aga': 'R', 'agg': 'R',\n",
    "        'guu': 'V', 'guc': 'V', 'gua': 'V', 'gug': 'V',\n",
    "        'gcu': 'A', 'gcc': 'A', 'gca': 'A', 'gcg': 'A',\n",
    "        'gau': 'D', 'gac': 'D', 'gaa': 'E', 'gag': 'E',\n",
    "        'ggu': 'G', 'ggc': 'G', 'gga': 'G', 'ggg': 'G'\n",
    "    }\n",
    "\n",
    "    #Translate RNA sequence to protein\n",
    "    protein = \"\"\n",
    "    for i in range(0, len(rna_sequence), 3):\n",
    "        codon = rna_sequence[i:i+3]\n",
    "        amino_acid = codon_table.get(codon, '-') \n",
    "        if amino_acid == 'Stop':\n",
    "            break\n",
    "        protein += amino_acid\n",
    "\n",
    "    return protein\n",
    "\n",
    "# Test the function with a debug print\n",
    "protein = RNA2Protein(coronaRNAgenome)\n",
    "print(\"Protein sequence:\", protein)\n",
    "\n"
   ]
  },
  {
   "cell_type": "markdown",
   "metadata": {},
   "source": [
    "Using the two functions that you have created, transcribe and then translate the Spike which is located here: `coronaGenome[21601:25390]`  \n",
    "A mutation of codon 614 from aspartic acid (D), which has a strong negative charge, to glycine (G), which has no side chain. This change enhances transmission and swept the world population of sequenced genomes by May 2020.  \n",
    "Does the isolate we are analyzing here have the D or G at this position?"
   ]
  },
  {
   "cell_type": "code",
   "execution_count": 147,
   "metadata": {
    "tags": []
   },
   "outputs": [
    {
     "name": "stdout",
     "output_type": "stream",
     "text": [
      "The amino acid at position 614 is D (aspartic acid).\n"
     ]
    }
   ],
   "source": [
    "# Extract the Spike protein DNA sequence\n",
    "spike_dna_sequence = coronaGenome[21601:25390]\n",
    "\n",
    "# Transcribe DNA to RNA\n",
    "spike_rna_sequence = dna2rna(spike_dna_sequence)\n",
    "\n",
    "# Translate RNA to protein\n",
    "spike_protein_sequence = RNA2Protein(spike_rna_sequence)\n",
    "\n",
    "# Check the amino acid at position 614\n",
    "position = 614\n",
    "amino_acid_at_614 = spike_protein_sequence[position - 1]  # Subtract 1 for zero-based indexing\n",
    "\n",
    "# Determine if it's D or G\n",
    "if amino_acid_at_614 == 'D':\n",
    "    result = \"D (aspartic acid)\"\n",
    "elif amino_acid_at_614 == 'G':\n",
    "    result = \"G (glycine)\"\n",
    "else:\n",
    "    result = f\"another amino acid ({amino_acid_at_614})\"\n",
    "\n",
    "print(f\"The amino acid at position 614 is {result}.\")\n"
   ]
  },
  {
   "cell_type": "markdown",
   "metadata": {},
   "source": [
    "## Excercise 5: Open Reading frames\n",
    "\n",
    "A standard function in genome annotation is one that identifies all open reading frames in a sequence of interest. Write a function called 'ReturnReadingFrame()' to locate and return the start and end index of all ORFs and what frame they are in. Corona viruses are single stranded RNA viruses so there is no translation from the \"bottom strand.\" \n",
    "\n",
    "Evaluate the corona genome sequence with this function and return the potential peptides greater than 10AA in length. Please comment on what strategies you could incorpoarate to increase the likelihood of returning only the peptides that are actually translated. \n",
    "\n",
    "If you are unsure where to start, https://en.wikipedia.org/wiki/Open_reading_frame should provide you with a good place to start"
   ]
  },
  {
   "cell_type": "code",
   "execution_count": 178,
   "metadata": {
    "tags": []
   },
   "outputs": [
    {
     "name": "stdout",
     "output_type": "stream",
     "text": [
      "ORF from 1071 to 1128 in frame 0, Length: 19 AA\n",
      "ORF from 1197 to 1233 in frame 0, Length: 12 AA\n",
      "ORF from 7209 to 7269 in frame 0, Length: 20 AA\n",
      "ORF from 7443 to 7476 in frame 0, Length: 11 AA\n",
      "ORF from 10950 to 11085 in frame 0, Length: 45 AA\n",
      "ORF from 12633 to 12687 in frame 0, Length: 18 AA\n",
      "ORF from 13767 to 21552 in frame 0, Length: 2595 AA\n",
      "ORF from 23172 to 23220 in frame 0, Length: 16 AA\n",
      "ORF from 23328 to 23376 in frame 0, Length: 16 AA\n",
      "ORF from 23805 to 23877 in frame 0, Length: 24 AA\n",
      "ORF from 25194 to 25284 in frame 0, Length: 30 AA\n",
      "ORF from 25392 to 26217 in frame 0, Length: 275 AA\n",
      "ORF from 26244 to 26469 in frame 0, Length: 75 AA\n",
      "ORF from 27201 to 27384 in frame 0, Length: 61 AA\n",
      "ORF from 27393 to 27756 in frame 0, Length: 121 AA\n",
      "ORF from 27993 to 28038 in frame 0, Length: 15 AA\n",
      "ORF from 28080 to 28188 in frame 0, Length: 36 AA\n",
      "ORF from 28593 to 28647 in frame 0, Length: 18 AA\n",
      "ORF from 29805 to 29841 in frame 0, Length: 12 AA\n",
      "ORF from 265 to 13480 in frame 1, Length: 4405 AA\n",
      "ORF from 13525 to 13564 in frame 1, Length: 13 AA\n",
      "ORF from 13684 to 13756 in frame 1, Length: 24 AA\n",
      "ORF from 13897 to 13936 in frame 1, Length: 13 AA\n",
      "ORF from 14020 to 14053 in frame 1, Length: 11 AA\n",
      "ORF from 14077 to 14140 in frame 1, Length: 21 AA\n",
      "ORF from 14347 to 14425 in frame 1, Length: 26 AA\n",
      "ORF from 14560 to 14605 in frame 1, Length: 15 AA\n",
      "ORF from 14650 to 14749 in frame 1, Length: 33 AA\n",
      "ORF from 14773 to 14854 in frame 1, Length: 27 AA\n",
      "ORF from 14890 to 14932 in frame 1, Length: 14 AA\n",
      "ORF from 15001 to 15055 in frame 1, Length: 18 AA\n",
      "ORF from 15076 to 15109 in frame 1, Length: 11 AA\n",
      "ORF from 15460 to 15664 in frame 1, Length: 68 AA\n",
      "ORF from 15667 to 15703 in frame 1, Length: 12 AA\n",
      "ORF from 15721 to 15763 in frame 1, Length: 14 AA\n",
      "ORF from 15811 to 15895 in frame 1, Length: 28 AA\n",
      "ORF from 15910 to 15952 in frame 1, Length: 14 AA\n",
      "ORF from 16033 to 16102 in frame 1, Length: 23 AA\n",
      "ORF from 16165 to 16276 in frame 1, Length: 37 AA\n",
      "ORF from 16378 to 16414 in frame 1, Length: 12 AA\n",
      "ORF from 16492 to 16600 in frame 1, Length: 36 AA\n",
      "ORF from 16681 to 16795 in frame 1, Length: 38 AA\n",
      "ORF from 16849 to 16891 in frame 1, Length: 14 AA\n",
      "ORF from 16972 to 17119 in frame 1, Length: 49 AA\n",
      "ORF from 17167 to 17200 in frame 1, Length: 11 AA\n",
      "ORF from 17398 to 17470 in frame 1, Length: 24 AA\n",
      "ORF from 17605 to 17713 in frame 1, Length: 36 AA\n",
      "ORF from 17857 to 17908 in frame 1, Length: 17 AA\n",
      "ORF from 17980 to 18049 in frame 1, Length: 23 AA\n",
      "ORF from 18238 to 18277 in frame 1, Length: 13 AA\n",
      "ORF from 18283 to 18364 in frame 1, Length: 27 AA\n",
      "ORF from 18409 to 18520 in frame 1, Length: 37 AA\n",
      "ORF from 18709 to 18760 in frame 1, Length: 17 AA\n",
      "ORF from 18766 to 18844 in frame 1, Length: 26 AA\n",
      "ORF from 18955 to 19003 in frame 1, Length: 16 AA\n",
      "ORF from 19090 to 19126 in frame 1, Length: 12 AA\n",
      "ORF from 19147 to 19300 in frame 1, Length: 51 AA\n",
      "ORF from 19309 to 19354 in frame 1, Length: 15 AA\n",
      "ORF from 19498 to 19537 in frame 1, Length: 13 AA\n",
      "ORF from 19666 to 19738 in frame 1, Length: 24 AA\n",
      "ORF from 19891 to 19930 in frame 1, Length: 13 AA\n",
      "ORF from 20026 to 20083 in frame 1, Length: 19 AA\n",
      "ORF from 20167 to 20260 in frame 1, Length: 31 AA\n",
      "ORF from 20308 to 20353 in frame 1, Length: 15 AA\n",
      "ORF from 20464 to 20533 in frame 1, Length: 23 AA\n",
      "ORF from 20785 to 20818 in frame 1, Length: 11 AA\n",
      "ORF from 21070 to 21139 in frame 1, Length: 23 AA\n",
      "ORF from 21187 to 21247 in frame 1, Length: 20 AA\n",
      "ORF from 21316 to 21397 in frame 1, Length: 27 AA\n",
      "ORF from 21535 to 25381 in frame 1, Length: 1282 AA\n",
      "ORF from 25456 to 25579 in frame 1, Length: 41 AA\n",
      "ORF from 25813 to 25879 in frame 1, Length: 22 AA\n",
      "ORF from 25909 to 25981 in frame 1, Length: 24 AA\n",
      "ORF from 26071 to 26167 in frame 1, Length: 32 AA\n",
      "ORF from 26182 to 26278 in frame 1, Length: 32 AA\n",
      "ORF from 26578 to 26650 in frame 1, Length: 24 AA\n",
      "ORF from 26692 to 26869 in frame 1, Length: 59 AA\n",
      "ORF from 27358 to 27394 in frame 1, Length: 12 AA\n",
      "ORF from 28273 to 29530 in frame 1, Length: 419 AA\n",
      "ORF from 29557 to 29671 in frame 1, Length: 38 AA\n",
      "ORF from 29770 to 29803 in frame 1, Length: 11 AA\n",
      "ORF from 467 to 530 in frame 2, Length: 21 AA\n",
      "ORF from 593 to 683 in frame 2, Length: 30 AA\n",
      "ORF from 725 to 878 in frame 2, Length: 51 AA\n",
      "ORF from 965 to 1094 in frame 2, Length: 43 AA\n",
      "ORF from 1145 to 1226 in frame 2, Length: 27 AA\n",
      "ORF from 1352 to 1397 in frame 2, Length: 15 AA\n",
      "ORF from 1502 to 1556 in frame 2, Length: 18 AA\n",
      "ORF from 1604 to 1736 in frame 2, Length: 44 AA\n",
      "ORF from 1865 to 1964 in frame 2, Length: 33 AA\n",
      "ORF from 2126 to 2180 in frame 2, Length: 18 AA\n",
      "ORF from 2801 to 2867 in frame 2, Length: 22 AA\n",
      "ORF from 2870 to 2903 in frame 2, Length: 11 AA\n",
      "ORF from 2957 to 3203 in frame 2, Length: 82 AA\n",
      "ORF from 3206 to 3299 in frame 2, Length: 31 AA\n",
      "ORF from 3374 to 3419 in frame 2, Length: 15 AA\n",
      "ORF from 3440 to 3488 in frame 2, Length: 16 AA\n",
      "ORF from 3545 to 3578 in frame 2, Length: 11 AA\n",
      "ORF from 3611 to 3749 in frame 2, Length: 46 AA\n",
      "ORF from 3947 to 4100 in frame 2, Length: 51 AA\n",
      "ORF from 4349 to 4427 in frame 2, Length: 26 AA\n",
      "ORF from 4517 to 4556 in frame 2, Length: 13 AA\n",
      "ORF from 4589 to 4622 in frame 2, Length: 11 AA\n",
      "ORF from 4706 to 4832 in frame 2, Length: 42 AA\n",
      "ORF from 4904 to 4949 in frame 2, Length: 15 AA\n",
      "ORF from 5033 to 5084 in frame 2, Length: 17 AA\n",
      "ORF from 5102 to 5213 in frame 2, Length: 37 AA\n",
      "ORF from 5354 to 5408 in frame 2, Length: 18 AA\n",
      "ORF from 5591 to 5654 in frame 2, Length: 21 AA\n",
      "ORF from 5705 to 5780 in frame 2, Length: 25 AA\n",
      "ORF from 5858 to 5894 in frame 2, Length: 12 AA\n",
      "ORF from 5918 to 6086 in frame 2, Length: 56 AA\n",
      "ORF from 6155 to 6347 in frame 2, Length: 64 AA\n",
      "ORF from 6686 to 6731 in frame 2, Length: 15 AA\n",
      "ORF from 7088 to 7148 in frame 2, Length: 20 AA\n",
      "ORF from 7280 to 7364 in frame 2, Length: 28 AA\n",
      "ORF from 7547 to 7706 in frame 2, Length: 53 AA\n",
      "ORF from 7757 to 7835 in frame 2, Length: 26 AA\n",
      "ORF from 7895 to 7979 in frame 2, Length: 28 AA\n",
      "ORF from 8000 to 8099 in frame 2, Length: 33 AA\n",
      "ORF from 8147 to 8201 in frame 2, Length: 18 AA\n",
      "ORF from 8213 to 8252 in frame 2, Length: 13 AA\n",
      "ORF from 8645 to 8684 in frame 2, Length: 13 AA\n",
      "ORF from 8756 to 8822 in frame 2, Length: 22 AA\n",
      "ORF from 8897 to 8972 in frame 2, Length: 25 AA\n",
      "ORF from 9035 to 9080 in frame 2, Length: 15 AA\n",
      "ORF from 9098 to 9191 in frame 2, Length: 31 AA\n",
      "ORF from 9287 to 9326 in frame 2, Length: 13 AA\n",
      "ORF from 9767 to 9818 in frame 2, Length: 17 AA\n",
      "ORF from 9851 to 9887 in frame 2, Length: 12 AA\n",
      "ORF from 9980 to 10112 in frame 2, Length: 44 AA\n",
      "ORF from 10214 to 10397 in frame 2, Length: 61 AA\n",
      "ORF from 10409 to 10442 in frame 2, Length: 11 AA\n",
      "ORF from 10514 to 10583 in frame 2, Length: 23 AA\n",
      "ORF from 10598 to 10667 in frame 2, Length: 23 AA\n",
      "ORF from 10694 to 10757 in frame 2, Length: 21 AA\n",
      "ORF from 10919 to 10979 in frame 2, Length: 20 AA\n",
      "ORF from 11084 to 11141 in frame 2, Length: 19 AA\n",
      "ORF from 11162 to 11204 in frame 2, Length: 14 AA\n",
      "ORF from 11366 to 11399 in frame 2, Length: 11 AA\n",
      "ORF from 11771 to 11828 in frame 2, Length: 19 AA\n",
      "ORF from 12125 to 12203 in frame 2, Length: 26 AA\n",
      "ORF from 12218 to 12290 in frame 2, Length: 24 AA\n",
      "ORF from 12389 to 12440 in frame 2, Length: 17 AA\n",
      "ORF from 12518 to 12569 in frame 2, Length: 17 AA\n",
      "ORF from 12572 to 12629 in frame 2, Length: 19 AA\n",
      "ORF from 12689 to 12770 in frame 2, Length: 27 AA\n",
      "ORF from 12863 to 12938 in frame 2, Length: 25 AA\n",
      "ORF from 13031 to 13085 in frame 2, Length: 18 AA\n",
      "ORF from 13310 to 13463 in frame 2, Length: 51 AA\n",
      "ORF from 16319 to 16352 in frame 2, Length: 11 AA\n",
      "ORF from 18293 to 18329 in frame 2, Length: 12 AA\n",
      "ORF from 18683 to 18737 in frame 2, Length: 18 AA\n",
      "ORF from 21743 to 21860 in frame 2, Length: 39 AA\n",
      "ORF from 21935 to 22196 in frame 2, Length: 87 AA\n",
      "ORF from 22358 to 22391 in frame 2, Length: 11 AA\n",
      "ORF from 22613 to 22721 in frame 2, Length: 36 AA\n",
      "ORF from 22724 to 22763 in frame 2, Length: 13 AA\n",
      "ORF from 22775 to 22862 in frame 2, Length: 29 AA\n",
      "ORF from 23003 to 23090 in frame 2, Length: 29 AA\n",
      "ORF from 23117 to 23198 in frame 2, Length: 27 AA\n",
      "ORF from 23282 to 23354 in frame 2, Length: 24 AA\n",
      "ORF from 23402 to 23510 in frame 2, Length: 36 AA\n",
      "ORF from 23525 to 23621 in frame 2, Length: 32 AA\n",
      "ORF from 24050 to 24167 in frame 2, Length: 39 AA\n",
      "ORF from 24281 to 24326 in frame 2, Length: 15 AA\n",
      "ORF from 24494 to 24548 in frame 2, Length: 18 AA\n",
      "ORF from 24761 to 24872 in frame 2, Length: 37 AA\n",
      "ORF from 24890 to 24947 in frame 2, Length: 19 AA\n",
      "ORF from 25142 to 25190 in frame 2, Length: 16 AA\n",
      "ORF from 25331 to 25445 in frame 2, Length: 38 AA\n",
      "ORF from 25523 to 25694 in frame 2, Length: 57 AA\n",
      "ORF from 25967 to 26066 in frame 2, Length: 33 AA\n",
      "ORF from 26522 to 27188 in frame 2, Length: 222 AA\n",
      "ORF from 27755 to 27884 in frame 2, Length: 43 AA\n",
      "ORF from 27893 to 28256 in frame 2, Length: 121 AA\n",
      "ORF from 28283 to 28574 in frame 2, Length: 97 AA\n",
      "ORF from 28640 to 28688 in frame 2, Length: 16 AA\n",
      "ORF from 28733 to 28952 in frame 2, Length: 73 AA\n",
      "ORF from 29291 to 29330 in frame 2, Length: 13 AA\n",
      "ORF from 29402 to 29447 in frame 2, Length: 15 AA\n"
     ]
    }
   ],
   "source": [
    "#Function to define every ORF with the RNA sequence\n",
    "def ReturnReadingFrame(rna_sequence):\n",
    "    start_codon = 'aug'\n",
    "    stop_codons = {'uaa', 'uag', 'uga'}\n",
    "    orfs = []\n",
    "\n",
    "    # Scan in all three reading frames\n",
    "    for frame in range(3):\n",
    "        open_frame = None\n",
    "\n",
    "        for i in range(frame, len(rna_sequence) - 2, 3):\n",
    "            codon = rna_sequence[i:i+3]\n",
    "\n",
    "            if open_frame is None and codon == start_codon:\n",
    "                open_frame = i\n",
    "            elif open_frame is not None and codon in stop_codons:\n",
    "                orf_length = (i - open_frame) // 3\n",
    "                if orf_length > 10:\n",
    "                    orfs.append((open_frame, i, frame))\n",
    "                open_frame = None\n",
    "\n",
    "    return orfs\n",
    "\n",
    "# Evaluate the corona genome sequence\n",
    "coronaRNAgenome = dna2rna(coronaGenome)\n",
    "orfs = ReturnReadingFrame(coronaRNAgenome)\n",
    "\n",
    "# Print ORFs greater than 10AA in length\n",
    "for start, end, frame in orfs:\n",
    "    print(f\"ORF from {start} to {end} in frame {frame}, Length: {(end - start) // 3} AA\")\n",
    "\n",
    "\n",
    "    \n",
    "\n"
   ]
  },
  {
   "cell_type": "markdown",
   "metadata": {},
   "source": [
    "## Excercise 6: Extra Credit (Not optional for 272)\n",
    "\n",
    "Read through this [paper](https://www.biorxiv.org/content/10.1101/2022.10.18.512756v1.full.pdf) which claims to have evidence to support the lab leak theory based on the spacing and frequency of BsaI 'GGTCTC' and BsmBI 'CGTCTC' restriction sites used for [Golden Gate Assembly](https://www.neb.com/applications/cloning-and-synthetic-biology/dna-assembly-and-cloning/golden-gate-assembly).\n",
    "\n",
    "Using the following python function and ones that you have developed in the previous excercises generate 1000 random sequences. Calculate the number and size of BsaI 'GGTCTC' and BsmBI 'CGTCTC' generated fragments. Compare the distribution of sizes and number to the size and number of the COVID genome. How unlikely is it to get the distribution we have? Does this support the lab leak theory? \n",
    "\n",
    "```\n",
    "    import random\n",
    "\n",
    "    def generate_random_dna(length):\n",
    "        nucleotides = ['A', 'C', 'G', 'T']\n",
    "        return ''.join(random.choice(nucleotides) for _ in range(length))\n",
    "```\n",
    "\n",
    "\n"
   ]
  },
  {
   "cell_type": "code",
   "execution_count": null,
   "metadata": {},
   "outputs": [],
   "source": []
  },
  {
   "cell_type": "markdown",
   "metadata": {},
   "source": [
    "Include who you worked with here: <br />\n",
    "1)   <br />\n",
    "2)   <br />\n",
    "3)   <br />\n"
   ]
  },
  {
   "cell_type": "code",
   "execution_count": 148,
   "metadata": {
    "tags": []
   },
   "outputs": [
    {
     "name": "stdout",
     "output_type": "stream",
     "text": [
      "Was not able to find a group, I worked on my own\n"
     ]
    }
   ],
   "source": [
    "who_I_worked_with = 'Was not able to find a group, I worked on my own'\n",
    "print(who_I_worked_with)"
   ]
  },
  {
   "cell_type": "code",
   "execution_count": null,
   "metadata": {},
   "outputs": [],
   "source": []
  }
 ],
 "metadata": {
  "kernelspec": {
   "display_name": "Python 3 (ipykernel)",
   "language": "python",
   "name": "python3"
  },
  "language_info": {
   "codemirror_mode": {
    "name": "ipython",
    "version": 3
   },
   "file_extension": ".py",
   "mimetype": "text/x-python",
   "name": "python",
   "nbconvert_exporter": "python",
   "pygments_lexer": "ipython3",
   "version": "3.11.5"
  }
 },
 "nbformat": 4,
 "nbformat_minor": 4
}
