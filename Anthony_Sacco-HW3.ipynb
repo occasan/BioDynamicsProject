{
 "cells": [
  {
   "cell_type": "markdown",
   "metadata": {},
   "source": [
    "# Homework 3 - 2D Cellular Automata\n",
    "\n",
    "Upload the completed notebook with *firstname_lastname-HW3*.\n",
    "\n",
    "Remember: code needs to be implemented in your own words. No copy-pasting. "
   ]
  },
  {
   "cell_type": "markdown",
   "metadata": {},
   "source": [
    "## Excercise 1 \n",
    "\n",
    "Build an `update` function that takes a numpy array of 0s and 1s and implements the game of life rules on it using wrap-around boundary conditions. \n"
   ]
  },
  {
   "cell_type": "code",
   "execution_count": 5,
   "metadata": {
    "tags": []
   },
   "outputs": [],
   "source": [
    "import numpy as np\n",
    "import matplotlib.pyplot as plt\n",
    "from IPython.display import clear_output\n",
    "%matplotlib inline\n",
    "\n",
    "#Define the update function and create the shape of the universe, as well as, create a new universe where cells will be placed after update\n",
    "\n",
    "def update(x):\n",
    "    rows, cols = x.shape\n",
    "    xnew = np.zeros(x.shape)\n",
    "    \n",
    "    #Find the number of living cells around home cell and impose wrap around conditions (Moore neighborhood)\n",
    "    for i, j in np.ndindex(x.shape):\n",
    "        #Sum the living cells within the universe\n",
    "        total = (x[i, (j-1)%rows] #left\n",
    "                + x[i, (j+1)%rows] #right\n",
    "                + x[(i-1)%cols, j] #up\n",
    "                + x[(i+1)%cols, j] #bottom\n",
    "                + x[(i-1)%cols, (j-1)%rows] #up and to the left\n",
    "                + x[(i-1)%cols, (j+1)%rows] #up and to the right\n",
    "                + x[(i+1)%cols, (j-1)%rows] #down and to the left\n",
    "                + x[(i+1)%cols, (j+1)%rows]) #down and to the right\n",
    "        \n",
    "        #Now we implement our rule set\n",
    "        if x[i, j] == 1: #Examine living cells in the universe\n",
    "        \n",
    "            #Deal with death and overpopulation\n",
    "            if (total < 2) or (total > 3):\n",
    "                xnew[i, j] = 0\n",
    "            #Any cell with two or three neighbors will live\n",
    "            else:\n",
    "                xnew[i, j] = 1\n",
    "                \n",
    "        #What if home cell is dead?\n",
    "        else:\n",
    "            if total == 3:\n",
    "                xnew[i, j] =1\n",
    "            \n",
    "            else:\n",
    "                xnew[i, j]= 0\n",
    "                \n",
    "    return xnew\n",
    "              "
   ]
  },
  {
   "cell_type": "markdown",
   "metadata": {},
   "source": [
    "## Excercise 2\n",
    "Use the `plant_seed` function provided to place the follow a glider (also provided) on a 20x20 grid. Animate the glider forward in time 100 generations.  "
   ]
  },
  {
   "cell_type": "code",
   "execution_count": 6,
   "metadata": {},
   "outputs": [
    {
     "data": {
      "image/png": "[encoded data removed]",
      "text/plain": [
       "<Figure size 1000x1000 with 1 Axes>"
      ]
     },
     "metadata": {},
     "output_type": "display_data"
    }
   ],
   "source": [
    "import numpy as np\n",
    "import matplotlib.pyplot as plt\n",
    "from IPython.display import clear_output\n",
    "\n",
    "# Corresponding ceiling and plant_seed function for the glider to operate\n",
    "def ceil(a,b):\n",
    "    return-(-a//b)\n",
    "\n",
    "# Construct a function that places the seed into a universe of arbitrary size\n",
    "\n",
    "def plant_seed(seed, nrows, ncols):\n",
    "    \n",
    "    # Create the empty universe that the glider will eventually function in\n",
    "    soil = np.zeros((nrows, ncols))\n",
    "    \n",
    "    # Use the floor and ceil division functions to place the seed into the universe\n",
    "    rowu = soil.shape[0] // 2 + seed.shape[0]//2\n",
    "    rowl = ceil(soil.shape[0],2) - ceil(seed.shape[0],2)\n",
    "                           \n",
    "    colu = soil.shape[1] // 2 + seed.shape[1] // 2\n",
    "    coll = ceil(soil.shape[1],2) - ceil(seed.shape[1],2)\n",
    "    \n",
    "    \n",
    "    soil[rowl:rowu, coll:colu] = seed\n",
    "    planted_seed = soil\n",
    "                           \n",
    "    return planted_seed\n",
    "\n",
    "# Define the glider\n",
    "glider = np.array([[0, 1, 0], \n",
    "                   [0, 0, 1], \n",
    "                   [1, 1, 1]])\n",
    "\n",
    "# Plant the glider seed within the universe \n",
    "universe = plant_seed(glider, 20, 20)\n",
    "\n",
    "# Create animatelife function to simulate glider within the universe\n",
    "def animatelife(universe, n):\n",
    "    for i in range(n):\n",
    "        plt.figure(figsize=(10, 10))\n",
    "        plt.imshow(update(universe), cmap='viridis')\n",
    "        plt.axis('off')\n",
    "        plt.show()\n",
    "        universe = update(universe)\n",
    "        clear_output(wait=True)\n",
    "\n",
    "# Animate the glider\n",
    "n = 100  # Number of generations\n",
    "animatelife(universe, n)\n",
    "\n",
    "    "
   ]
  },
  {
   "cell_type": "markdown",
   "metadata": {},
   "source": [
    "## Excercise 3\n",
    "\n",
    "Bacterial populations have been shown to compete in a real-life rock paper scissors game that results in complex dynamics. \n",
    "\n",
    "If you want to learn more about this see *Benjamin Kerr, Margaret A. Riley, Marcus W. Feldman & Brendan J. M. Bohannan. Local dispersal promotes biodiversity in a real-life game of rock-paper-scissors*\n",
    "\n",
    "Simulate these competing bacterial populations using a 3 state, 2D CA where the states are 0, 1, and 2. Use the rock-paper-scissors rule where 1 beats 0, 2 beats 1, and 0 beats 2. \n",
    "\n",
    "Make the rule set such that each cell plays against all cells in its neighborhood and adopts the state of any cell that beats it. \n",
    "\n",
    "Use the Moore neighborhood (https://en.wikipedia.org/wiki/Moore_neighborhood) and wraparound boundary conditions. \n",
    "\n",
    "Simulate both random initial conditions and sectored initial conditions, meaning 3 quadrants of 0,1,2.\n",
    "\n",
    "\n",
    "\n"
   ]
  },
  {
   "cell_type": "code",
   "execution_count": 7,
   "metadata": {},
   "outputs": [
    {
     "data": {
      "image/png": "[encoded data removed]",
      "text/plain": [
       "<Figure size 1000x1000 with 1 Axes>"
      ]
     },
     "metadata": {},
     "output_type": "display_data"
    }
   ],
   "source": [
    "import numpy as np\n",
    "import matplotlib.pyplot as plt\n",
    "from IPython.display import clear_output\n",
    "%matplotlib inline\n",
    "\n",
    "# Create an update function that includes a moore neighborhood and applies the rules associated with it\n",
    "def update(x):\n",
    "    rows, cols = x.shape\n",
    "    xnew = np.zeros(x.shape, dtype=int)\n",
    "\n",
    "    for i in range(rows):\n",
    "        for j in range(cols):\n",
    "            current_state = x[i, j]\n",
    "            states_count = [0, 0, 0]  # Counts of neighbors' states (0, 1, 2)\n",
    "\n",
    "            # Checking all neighbors in the Moore neighborhood\n",
    "            for di in [-1, 0, 1]:\n",
    "                for dj in [-1, 0, 1]:\n",
    "                    if di == 0 and dj == 0:\n",
    "                        continue  # Skip the current cell itself\n",
    "                    neighbor_state = x[(i + di) % rows, \n",
    "                                       (j + dj) % cols]\n",
    "                    states_count[neighbor_state] += 1\n",
    "\n",
    "            # Determine the state that beats the current one\n",
    "            winning_state = (current_state + 1) % 3\n",
    "                    \n",
    "            # Check if the current state is outnumbered by the winning state\n",
    "            if states_count[winning_state] > states_count[current_state]:\n",
    "                xnew[i, j] = winning_state  # Change state if beaten by majority\n",
    "            else:\n",
    "                xnew[i, j] = current_state  # Retain the current state if not\n",
    "\n",
    "    return xnew\n",
    "\n",
    "# Create animatelife function to simulate rock,paper,scissors rules within the universe\n",
    "def animatelife(universe, n):\n",
    "    for i in range(n):\n",
    "        plt.figure(figsize=(10, 10))\n",
    "        plt.imshow(update(universe), cmap='viridis')\n",
    "        plt.axis('off')\n",
    "        plt.show()\n",
    "        universe = update(universe)\n",
    "        clear_output(wait=True)\n",
    "\n",
    "# Create the universe with random states (0, 1, or 2)\n",
    "rows, cols = 20, 20\n",
    "universe = np.random.choice([0, 1, 2], size=(rows, cols))\n",
    "\n",
    "# Animate the simulation\n",
    "n = 100  # Number of generations\n",
    "animatelife(universe, n)\n"
   ]
  },
  {
   "cell_type": "code",
   "execution_count": 8,
   "metadata": {
    "tags": []
   },
   "outputs": [
    {
     "data": {
      "image/png": "[encoded data removed]",
      "text/plain": [
       "<Figure size 1000x1000 with 1 Axes>"
      ]
     },
     "metadata": {},
     "output_type": "display_data"
    }
   ],
   "source": [
    "import numpy as np\n",
    "import matplotlib.pyplot as plt\n",
    "from IPython.display import clear_output\n",
    "%matplotlib inline\n",
    "\n",
    "# The update function modified for rock-paper-scissors rules\n",
    "def update(x):\n",
    "    rows, cols = x.shape\n",
    "    xnew = np.zeros(x.shape, dtype=int)\n",
    "\n",
    "    for i in range(rows):\n",
    "        for j in range(cols):\n",
    "            current_state = x[i, j]\n",
    "            states_count = [0, 0, 0]  # Counts of neighbors' states (0, 1, 2)\n",
    "\n",
    "            # Checking all neighbors\n",
    "            for di in [-1, 0, 1]:\n",
    "                for dj in [-1, 0, 1]:\n",
    "                    if di == 0 and dj == 0:\n",
    "                        continue  # Skip the current cell itself\n",
    "                    neighbor_state = x[(i + di) % rows, (j + dj) % cols]\n",
    "                    states_count[neighbor_state] += 1\n",
    "\n",
    "                    winning_state = (current_state + 1) % 3  # State that beats the current one\n",
    "                    \n",
    "            if states_count[winning_state] > states_count[current_state]:\n",
    "                xnew[i, j] = winning_state  # Change state if beaten by majority\n",
    "            else:\n",
    "                xnew[i, j] = current_state  # Retain the current state\n",
    "\n",
    "\n",
    "    return xnew\n",
    "\n",
    "# Create animatelife function to visualize the simulation\n",
    "def animatelife(universe, n):\n",
    "    for i in range(n):\n",
    "        plt.figure(figsize=(10, 10))\n",
    "        plt.imshow(update(universe), cmap='viridis')\n",
    "        plt.axis('off')\n",
    "        plt.show()\n",
    "        universe = update(universe)\n",
    "        clear_output(wait=True)\n",
    "\n",
    "# Create the universe with sectored states (0, 1, or 2)\n",
    "rows, cols = 20, 20\n",
    "universe = np.zeros((rows, cols), dtype=int)\n",
    "sector_size = rows // 3\n",
    "universe[:sector_size, :] = 0\n",
    "universe[sector_size:2*sector_size, :] = 1\n",
    "universe[2*sector_size:, :] = 2\n",
    "\n",
    "# Animate the simulation\n",
    "n = 100  # Number of generations\n",
    "animatelife(universe, n)\n"
   ]
  },
  {
   "cell_type": "markdown",
   "metadata": {},
   "source": [
    "# Excercise 4: Extra Credit (Not optional for graduate students)\n",
    "Review this week's reading entitled *Cellular Automata Approaches to Biological Modeling*.\n",
    "Implement the Young Model, the coupled oscillator model, or a Growth Automata model (such as diffusion limited aggregation). Comment on how your simulation could be used to increase intuition on the biological phenomenon simulated.\n"
   ]
  },
  {
   "cell_type": "markdown",
   "metadata": {},
   "source": []
  },
  {
   "cell_type": "markdown",
   "metadata": {},
   "source": [
    "Please state who you worked with:"
   ]
  },
  {
   "cell_type": "code",
   "execution_count": null,
   "metadata": {},
   "outputs": [],
   "source": []
  }
 ],
 "metadata": {
  "kernelspec": {
   "display_name": "Python 3 (ipykernel)",
   "language": "python",
   "name": "python3"
  },
  "language_info": {
   "codemirror_mode": {
    "name": "ipython",
    "version": 3
   },
   "file_extension": ".py",
   "mimetype": "text/x-python",
   "name": "python",
   "nbconvert_exporter": "python",
   "pygments_lexer": "ipython3",
   "version": "3.11.5"
  }
 },
 "nbformat": 4,
 "nbformat_minor": 4
}
